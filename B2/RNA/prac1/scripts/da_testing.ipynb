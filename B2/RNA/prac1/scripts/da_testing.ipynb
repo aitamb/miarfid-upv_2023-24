{
 "cells": [
  {
   "cell_type": "markdown",
   "metadata": {},
   "source": [
    "## Transformaciones de datos para Data Augmentation"
   ]
  },
  {
   "cell_type": "markdown",
   "metadata": {},
   "source": [
    "### Imports"
   ]
  },
  {
   "cell_type": "code",
   "execution_count": 3,
   "metadata": {},
   "outputs": [],
   "source": [
    "import torchvision\n",
    "from torchvision import transforms\n",
    "from torch.utils.data import Dataset\n",
    "from torch.utils.data import DataLoader"
   ]
  },
  {
   "cell_type": "markdown",
   "metadata": {},
   "source": [
    "### DataSet Class"
   ]
  },
  {
   "cell_type": "code",
   "execution_count": 4,
   "metadata": {},
   "outputs": [],
   "source": [
    "class MNIST_dataset(Dataset):\n",
    "    def __init__(self, transform=None):\n",
    "\n",
    "        print(\"\\nLoading MNIST Dataset...\")\n",
    "        self.transform = transform\n",
    "        self.data = torchvision.datasets.MNIST('.data/', train=False, download=True)\n",
    "        print(\"\\tTotal Len.: \", len(self.data), \"\\n\", 50*\"-\")\n",
    "\n",
    "    def __len__(self):\n",
    "        return len(self.data)\n",
    "\n",
    "    def __getitem__(self, idx):\n",
    "\n",
    "        # Image\n",
    "        image = self.data[idx][0]\n",
    "        image = self.transform(image)\n",
    "        # image = image.view(-1)\n",
    "\n",
    "        # Label\n",
    "        label = self.data[idx][1]\n",
    "        # label = F.one_hot(label, num_classes=10).float()\n",
    "\n",
    "        return {\"idx\": idx, \"img\": image, \"label\": label}"
   ]
  },
  {
   "cell_type": "markdown",
   "metadata": {},
   "source": [
    "### Definición del Data Augmentation"
   ]
  },
  {
   "cell_type": "code",
   "execution_count": 5,
   "metadata": {},
   "outputs": [],
   "source": [
    "import random\n",
    "\n",
    "def rand_func():\n",
    "    if random.random() < 0.5:\n",
    "        return transforms.ElasticTransform(alpha=110.0)\n",
    "    else:\n",
    "        return transforms.RandomRotation(0)\n",
    "\n",
    "test_transform = transforms.Compose(\n",
    "                    [\n",
    "                    transforms.RandomRotation((-15, 10)),\n",
    "                    transforms.RandomAffine(degrees=2, translate=(0.02,0.01), scale=(0.9, 1.1)),\n",
    "                    rand_func(),\n",
    "                    transforms.GaussianBlur(kernel_size=3),\n",
    "                    transforms.RandomInvert(),\n",
    "                    transforms.ToTensor()\n",
    "                    ])"
   ]
  },
  {
   "cell_type": "markdown",
   "metadata": {},
   "source": [
    "### Obtención de los datos"
   ]
  },
  {
   "cell_type": "code",
   "execution_count": 6,
   "metadata": {},
   "outputs": [
    {
     "name": "stdout",
     "output_type": "stream",
     "text": [
      "\n",
      "Loading MNIST Dataset...\n",
      "\tTotal Len.:  10000 \n",
      " --------------------------------------------------\n"
     ]
    }
   ],
   "source": [
    "test_dataset = MNIST_dataset(transform=test_transform)\n",
    "batch_size = 100\n",
    "test_dataloader = DataLoader(test_dataset, batch_size, shuffle=False)"
   ]
  },
  {
   "cell_type": "code",
   "execution_count": 7,
   "metadata": {},
   "outputs": [
    {
     "data": {
      "image/png": "[encoded data removed]",
      "text/plain": [
       "<Figure size 640x480 with 6 Axes>"
      ]
     },
     "metadata": {},
     "output_type": "display_data"
    }
   ],
   "source": [
    "import matplotlib.pyplot as plt\n",
    "\n",
    "examples = enumerate(test_dataloader)\n",
    "_, example = next(examples)\n",
    "\n",
    "# Plot the example image\n",
    "fig = plt.figure()\n",
    "for i in range(6):\n",
    "    plt.subplot(2,3,i+1)\n",
    "    plt.tight_layout()\n",
    "    plt.imshow(example[\"img\"][i][0], cmap='gray', interpolation='none')\n",
    "    plt.title(\"Ground Truth: {}\".format(example[\"label\"][i]))\n",
    "    plt.xticks([])\n",
    "    plt.yticks([])\n",
    "plt.show()"
   ]
  }
 ],
 "metadata": {
  "kernelspec": {
   "display_name": "Python 3",
   "language": "python",
   "name": "python3"
  },
  "language_info": {
   "codemirror_mode": {
    "name": "ipython",
    "version": 3
   },
   "file_extension": ".py",
   "mimetype": "text/x-python",
   "name": "python",
   "nbconvert_exporter": "python",
   "pygments_lexer": "ipython3",
   "version": "3.9.13"
  }
 },
 "nbformat": 4,
 "nbformat_minor": 2
}
