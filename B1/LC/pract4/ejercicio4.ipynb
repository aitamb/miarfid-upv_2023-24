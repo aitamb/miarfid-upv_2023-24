{
 "cells": [
  {
   "cell_type": "markdown",
   "metadata": {},
   "source": [
    "# Práctica 4 - Lingüística computacional"
   ]
  },
  {
   "cell_type": "markdown",
   "metadata": {},
   "source": [
    "## Ejercicio 1: algoritmo de Lesk"
   ]
  },
  {
   "cell_type": "code",
   "execution_count": 24,
   "metadata": {},
   "outputs": [],
   "source": [
    "import nltk\n",
    "from nltk.corpus import wordnet as wn\n",
    "from nltk.corpus import stopwords as sw"
   ]
  },
  {
   "cell_type": "markdown",
   "metadata": {},
   "source": [
    "### Funciones para el algoritmo"
   ]
  },
  {
   "cell_type": "code",
   "execution_count": 56,
   "metadata": {},
   "outputs": [],
   "source": [
    "# Funcion para calcular el solapamiento entre una frase y una acepcion\n",
    "def computeOverlap(s, c):\n",
    "    return len(s.intersection(c))"
   ]
  },
  {
   "cell_type": "code",
   "execution_count": 60,
   "metadata": {},
   "outputs": [],
   "source": [
    "# Algoritmo de Lesk, decidir el mejor sentido para la palabra segun la frase\n",
    "# (hace falta eliminar las stopwords de la frase)\n",
    "def lesk(w, s):\n",
    "    # inicializar variables\n",
    "    best_s = \"\" # mejor significado\n",
    "    best_o = 0 # mejor solapamiento\n",
    "    # contexto = la frase sin stopwords\n",
    "    words = nltk.word_tokenize(s)\n",
    "    context = set([w for w in words if w not in sw.words('english')])\n",
    "    # para cada significado, calcular el solapamiento\n",
    "    for sense in wn.synsets(w):\n",
    "        definition = set(w.lower() for w in sense.definition().split())\n",
    "        examples = set(w.lower() for ex in sense.examples() for w in ex.split())\n",
    "        # defincion y ejemplos del significado\n",
    "        signature = definition.union(examples)\n",
    "        # calculo del solapamiento\n",
    "        overlap = computeOverlap(signature, context)\n",
    "        # si se encuentra un solapamiento mejor, actualizar datos\n",
    "        if overlap > best_o:\n",
    "            best_o = overlap\n",
    "            best_s = sense.definition()\n",
    "\n",
    "    # devolver el mejor significado encontrado\n",
    "    return best_s"
   ]
  },
  {
   "cell_type": "markdown",
   "metadata": {},
   "source": [
    "### Ejemplo de uso"
   ]
  },
  {
   "cell_type": "code",
   "execution_count": 66,
   "metadata": {},
   "outputs": [
    {
     "name": "stdout",
     "output_type": "stream",
     "text": [
      "Mejor significado para la palabra 'bank':\n",
      "a financial institution that accepts deposits and channels the money into lending activities\n"
     ]
    }
   ],
   "source": [
    "sentence = \"Yesterday I went to the bank to withdraw the money and the credit card did not work\"\n",
    "word = \"bank\"\n",
    "significado = lesk(word, sentence)\n",
    "print(\"Mejor significado para la palabra '\" + word + \"':\")\n",
    "if significado:\n",
    "    print(significado)\n",
    "else:\n",
    "    print(\"!! No se ha encontrado significado\")"
   ]
  },
  {
   "cell_type": "markdown",
   "metadata": {},
   "source": [
    "## Ejercicio 2: otro algoritmo de desambiguación"
   ]
  },
  {
   "cell_type": "code",
   "execution_count": 79,
   "metadata": {},
   "outputs": [
    {
     "name": "stderr",
     "output_type": "stream",
     "text": [
      "[nltk_data] Downloading package word2vec_sample to\n",
      "[nltk_data]     C:\\Users\\Aitam\\AppData\\Roaming\\nltk_data...\n",
      "[nltk_data]   Unzipping models\\word2vec_sample.zip.\n"
     ]
    },
    {
     "data": {
      "text/plain": [
       "True"
      ]
     },
     "execution_count": 79,
     "metadata": {},
     "output_type": "execute_result"
    }
   ],
   "source": [
    "import gensim\n",
    "import nltk\n",
    "from nltk.data import find\n",
    "from nltk.corpus import wordnet as wn\n",
    "from nltk.corpus import stopwords as sw\n",
    "import numpy as np\n",
    "from numpy.linalg import norm\n",
    "\n",
    "nltk.download('word2vec_sample')"
   ]
  },
  {
   "cell_type": "code",
   "execution_count": 68,
   "metadata": {},
   "outputs": [],
   "source": [
    "# Funcion para calcular la similitud coseno entre dos vectores\n",
    "def cos_sim(A, B):\n",
    "       return np.dot(A, B)/(norm(A)*norm(B))"
   ]
  },
  {
   "cell_type": "code",
   "execution_count": 75,
   "metadata": {},
   "outputs": [],
   "source": [
    "# Algoritmo similar al de Lesk que utiliza la representacion\n",
    "# vectorial de las palabras para calcular el mejor significado\n",
    "def wEmbedding_disambiguation(w, s):\n",
    "    # cargar el modelo de embedding pre-entrenado del NLTK\n",
    "    model = gensim.models.KeyedVectors.load_word2vec_format(find(\"models/word2vec_sample/pruned.word2vec.txt\"))\n",
    "    # inicializar variables\n",
    "    best_s = \"\" # mejor significado\n",
    "    best_sim = 0 # mejor similitud\n",
    "    # ahora el contexto sera un VECTOR (antes quitar stopwords de la frase)\n",
    "    sentence = set([w for w in nltk.word_tokenize(s) if w not in sw.words('english')])\n",
    "    # si la palabra esta en el modelo, obtener su vector\n",
    "    context_vectors = [model[w] for w in sentence if w in model]\n",
    "    # calcular el vector del contexto como la media de los vectores de las palabras\n",
    "    contextV = np.mean(context_vectors, axis=0)  \n",
    "    # para cada significado, calcular la similitud coseno\n",
    "    for sense in wn.synsets(w):\n",
    "        definition = set(w.lower() for w in sense.definition().split())\n",
    "        examples = set(w.lower() for ex in sense.examples() for w in ex.split())\n",
    "        # defincion y ejemplos del significado, en forma de VECTOR\n",
    "        signature = definition.union(examples)\n",
    "        # si la palabra esta en el modelo, obtener su vector\n",
    "        signature_vectors = [model[w] for w in signature if w in model]\n",
    "        # calcular el vector del significado como la media de los vectores de las palabras\n",
    "        signatureV = np.mean(signature_vectors, axis=0)\n",
    "        # calculo de la similitud entre el vector del contexto y el vector del significado\n",
    "        cs = cos_sim(contextV, signatureV)\n",
    "        # si se encuentra una similitud mejor, actualizar datos\n",
    "        if cs > best_sim:\n",
    "            best_sim = cs\n",
    "            best_s = sense.definition()\n",
    "\n",
    "    # devolver el mejor significado encontrado\n",
    "    return best_s"
   ]
  },
  {
   "cell_type": "markdown",
   "metadata": {},
   "source": [
    "### Ejemplo de uso"
   ]
  },
  {
   "cell_type": "code",
   "execution_count": 83,
   "metadata": {},
   "outputs": [
    {
     "name": "stdout",
     "output_type": "stream",
     "text": [
      "Mejor significado para la palabra 'bank':\n",
      "a financial institution that accepts deposits and channels the money into lending activities\n"
     ]
    }
   ],
   "source": [
    "sentence = \"Yesterday I went to the bank to withdraw the money and the credit card did not work\"\n",
    "word = \"bank\"\n",
    "significado = wEmbedding_disambiguation(word, sentence)\n",
    "print(\"Mejor significado para la palabra '\" + word + \"':\")\n",
    "if significado:\n",
    "    print(significado)\n",
    "else:\n",
    "    print(\"!! No se ha encontrado significado\")"
   ]
  }
 ],
 "metadata": {
  "kernelspec": {
   "display_name": "Python 3",
   "language": "python",
   "name": "python3"
  },
  "language_info": {
   "codemirror_mode": {
    "name": "ipython",
    "version": 3
   },
   "file_extension": ".py",
   "mimetype": "text/x-python",
   "name": "python",
   "nbconvert_exporter": "python",
   "pygments_lexer": "ipython3",
   "version": "3.9.13"
  }
 },
 "nbformat": 4,
 "nbformat_minor": 2
}
